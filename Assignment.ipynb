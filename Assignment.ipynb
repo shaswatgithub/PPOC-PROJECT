{
  "nbformat": 4,
  "nbformat_minor": 0,
  "metadata": {
    "colab": {
      "provenance": [],
      "include_colab_link": true
    },
    "kernelspec": {
      "name": "python3",
      "display_name": "Python 3"
    },
    "language_info": {
      "name": "python"
    }
  },
  "cells": [
    {
      "cell_type": "markdown",
      "metadata": {
        "id": "view-in-github",
        "colab_type": "text"
      },
      "source": [
        "<a href=\"https://colab.research.google.com/github/shaswatgithub/PPOC-PROJECT/blob/main/Assignment.ipynb\" target=\"_parent\"><img src=\"https://colab.research.google.com/assets/colab-badge.svg\" alt=\"Open In Colab\"/></a>"
      ]
    },
    {
      "cell_type": "markdown",
      "source": [
        "Assignment: Logistic Regression Analysis on the Iris Dataset\n",
        "\n",
        "Import the necessary libraries: seaborn, pandas, and numpy."
      ],
      "metadata": {
        "id": "qY2vhJd_4-Jd"
      }
    },
    {
      "cell_type": "code",
      "source": [
        "import  numpy as np \n",
        "import pandas as pd\n",
        "import matplotlib.pyplot as plt\n",
        "import seaborn as  sns"
      ],
      "metadata": {
        "id": "F0DXPEnS5IXE"
      },
      "execution_count": null,
      "outputs": []
    },
    {
      "cell_type": "markdown",
      "source": [
        "Load the 'iris' dataset using the load_dataset method from seaborn and store it in a variable called df."
      ],
      "metadata": {
        "id": "_yj9JnEV5AY9"
      }
    },
    {
      "cell_type": "code",
      "source": [],
      "metadata": {
        "id": "llo6ojGR5Mzt"
      },
      "execution_count": null,
      "outputs": []
    },
    {
      "cell_type": "markdown",
      "source": [
        "Explore the dataset:\n",
        "Get unique species values from the 'species' column."
      ],
      "metadata": {
        "id": "wnkoltJn4-Z0"
      }
    },
    {
      "cell_type": "code",
      "source": [],
      "metadata": {
        "id": "qVKGzJ715QH9"
      },
      "execution_count": null,
      "outputs": []
    },
    {
      "cell_type": "markdown",
      "source": [
        "Generate a correlation table using the .corr() method to examine the relationship between variables.\n"
      ],
      "metadata": {
        "id": "KHNEYYzx4-iN"
      }
    },
    {
      "cell_type": "code",
      "source": [],
      "metadata": {
        "id": "XlfHPhpb5UZ6"
      },
      "execution_count": null,
      "outputs": []
    },
    {
      "cell_type": "markdown",
      "source": [
        "Visualize pairwise relationships between variables using the pairplot function from seaborn."
      ],
      "metadata": {
        "id": "2uL2yo5M4-qP"
      }
    },
    {
      "cell_type": "code",
      "source": [],
      "metadata": {
        "id": "jz7UkWv05XOp"
      },
      "execution_count": null,
      "outputs": []
    },
    {
      "cell_type": "markdown",
      "source": [
        "Prepare the dataset for binary logistic regression:\n",
        "Remove rows with 'setosa' species as we are performing binary logistic classification."
      ],
      "metadata": {
        "id": "Po4H4mvH4-vb"
      }
    },
    {
      "cell_type": "code",
      "source": [],
      "metadata": {
        "id": "poHFPZeA5c5p"
      },
      "execution_count": null,
      "outputs": []
    },
    {
      "cell_type": "markdown",
      "source": [
        "Check for null values in the dataset and fill them with the average values of the respective column.\n"
      ],
      "metadata": {
        "id": "hMMDm6My4-zm"
      }
    },
    {
      "cell_type": "code",
      "source": [],
      "metadata": {
        "id": "lUxr3SsD5f4y"
      },
      "execution_count": null,
      "outputs": []
    },
    {
      "cell_type": "markdown",
      "source": [
        "Convert the string names 'versicolor' and 'virginica' to numerical values (0 and 1, respectively) for the 'species' column."
      ],
      "metadata": {
        "id": "zoDGl1aS4-3x"
      }
    },
    {
      "cell_type": "code",
      "source": [],
      "metadata": {
        "id": "BZV9iCbc5igP"
      },
      "execution_count": null,
      "outputs": []
    },
    {
      "cell_type": "markdown",
      "source": [
        "Split the dataset into independent (X) and dependent (y) parameters using the iloc function.\n"
      ],
      "metadata": {
        "id": "DaX11n2q4-8L"
      }
    },
    {
      "cell_type": "code",
      "source": [],
      "metadata": {
        "id": "dgCCQvTv5lpk"
      },
      "execution_count": null,
      "outputs": []
    },
    {
      "cell_type": "markdown",
      "source": [
        "Split the data into training and testing sets using the train_test_split function from sklearn.model_selection. Set the test size to 25%."
      ],
      "metadata": {
        "id": "AYZD1FRP4_Am"
      }
    },
    {
      "cell_type": "code",
      "source": [],
      "metadata": {
        "id": "bUQijgv85pEm"
      },
      "execution_count": null,
      "outputs": []
    },
    {
      "cell_type": "markdown",
      "source": [
        "Create a logistic regression classifier using the LogisticRegression class from sklearn.linear_model."
      ],
      "metadata": {
        "id": "pBlL3nlY5svN"
      }
    },
    {
      "cell_type": "code",
      "source": [],
      "metadata": {
        "id": "YyOccvji5uJU"
      },
      "execution_count": null,
      "outputs": []
    },
    {
      "cell_type": "markdown",
      "source": [
        "Perform hyperparameter tuning using grid search with cross-validation:\n",
        "python\n"
      ],
      "metadata": {
        "id": "6K82VQDS5tK0"
      }
    },
    {
      "cell_type": "code",
      "source": [],
      "metadata": {
        "id": "0-w_3JBC5wyV"
      },
      "execution_count": null,
      "outputs": []
    },
    {
      "cell_type": "markdown",
      "source": [
        "Fit the training data to the model."
      ],
      "metadata": {
        "id": "Nrp90nQF5tSq"
      }
    },
    {
      "cell_type": "code",
      "source": [],
      "metadata": {
        "id": "x1NnGZI75zRM"
      },
      "execution_count": null,
      "outputs": []
    },
    {
      "cell_type": "markdown",
      "source": [
        "Make predictions on the test set.\n"
      ],
      "metadata": {
        "id": "krc1ElE-5zlA"
      }
    },
    {
      "cell_type": "code",
      "source": [],
      "metadata": {
        "id": "AWB65Y0B52wq"
      },
      "execution_count": null,
      "outputs": []
    },
    {
      "cell_type": "markdown",
      "source": [
        "Calculate the accuracy score by comparing the predicted values (y_pred) with the actual values (y_test)."
      ],
      "metadata": {
        "id": "1rRYkKGO5ztk"
      }
    },
    {
      "cell_type": "code",
      "source": [],
      "metadata": {
        "id": "nfC7iRzn56LH"
      },
      "execution_count": null,
      "outputs": []
    },
    {
      "cell_type": "markdown",
      "source": [
        "Print the classification report to evaluate precision, recall, and F1-score between the predicted values (y_pred) and the actual values (y_test)."
      ],
      "metadata": {
        "id": "iLHY1zMr5zxv"
      }
    },
    {
      "cell_type": "code",
      "source": [],
      "metadata": {
        "id": "0Z1dnc9N59yH"
      },
      "execution_count": null,
      "outputs": []
    },
    {
      "cell_type": "markdown",
      "source": [
        "After completing this logistic regression assignment, it is recommended to read about precision, recall, and F1-score in the provided link for a better"
      ],
      "metadata": {
        "id": "cNNYxkuB5z2J"
      }
    }
  ]
}